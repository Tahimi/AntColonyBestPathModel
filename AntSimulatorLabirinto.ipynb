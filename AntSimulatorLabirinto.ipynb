{
  "cells": [
    {
      "cell_type": "markdown",
      "metadata": {
        "id": "view-in-github",
        "colab_type": "text"
      },
      "source": [
        "<a href=\"https://colab.research.google.com/github/Tahimi/AntColonyOptimizationModel/blob/main/AntSimulatorLabirinto.ipynb\" target=\"_parent\"><img src=\"https://colab.research.google.com/assets/colab-badge.svg\" alt=\"Open In Colab\"/></a>"
      ]
    },
    {
      "cell_type": "code",
      "execution_count": null,
      "id": "c7faa7fe",
      "metadata": {
        "id": "c7faa7fe"
      },
      "outputs": [],
      "source": [
        "Simulator = {\n",
        "    'antsNBR':300} #70"
      ]
    },
    {
      "cell_type": "code",
      "execution_count": null,
      "id": "4ba0c0bf",
      "metadata": {
        "id": "4ba0c0bf"
      },
      "outputs": [],
      "source": [
        "### Problem's Geometry ###\n",
        "ProblemGEE = {\n",
        "    'nx':100,\n",
        "    'ny':70}"
      ]
    },
    {
      "cell_type": "code",
      "execution_count": null,
      "id": "995595db",
      "metadata": {
        "id": "995595db"
      },
      "outputs": [],
      "source": [
        "### read wall Lower and Higher Bounds, LB and HB ###\n",
        "ProblemGEE.update({\n",
        "    # cost from analytical function\n",
        "    'costFromAnalFunc':False,\n",
        "    # cost from input text file\n",
        "    'fread_2Dcost':False,\n",
        "    '2Dcost_file':'2Dcost_file.csv',\n",
        "    # cost from image\n",
        "    'costFromImage':True,\n",
        "    'cell_data':\"Declividade.jpeg\", #\"labirinto1_rotated.jpeg\", #\"Declividade.jpeg\",\n",
        "    # lower and higher bounds of cost for wall\n",
        "    'costLB':0.,\n",
        "    'costHB':255.,\n",
        "    'homogenize_cost':False})"
      ]
    },
    {
      "cell_type": "code",
      "execution_count": null,
      "id": "a6674ecc",
      "metadata": {
        "id": "a6674ecc"
      },
      "outputs": [],
      "source": [
        "ProblemLabirintito = {\n",
        "    'nx':100,\n",
        "    'ny':100}"
      ]
    },
    {
      "cell_type": "code",
      "execution_count": null,
      "id": "750ade3f",
      "metadata": {
        "id": "750ade3f"
      },
      "outputs": [],
      "source": [
        "ProblemLabirintito.update({\n",
        "    # cost from analytical function\n",
        "    'costFromAnalFunc':False,\n",
        "    # cost from input text file\n",
        "    'fread_2Dcost':False,\n",
        "    '2Dcost_file':'2Dcost_file.csv',\n",
        "    # cost from image\n",
        "    'costFromImage':True,\n",
        "    'cell_data':\"labirinto1_rotated.jpeg\",\n",
        "    # lower and higher bounds of cost for wall\n",
        "    'costLB':4.,\n",
        "    'costHB':255.,\n",
        "    'homogenize_cost':True})"
      ]
    },
    {
      "cell_type": "code",
      "execution_count": null,
      "id": "347c905e",
      "metadata": {
        "id": "347c905e"
      },
      "outputs": [],
      "source": [
        "Problem = ProblemLabirintito"
      ]
    },
    {
      "cell_type": "code",
      "execution_count": null,
      "id": "1909e35b",
      "metadata": {
        "id": "1909e35b",
        "outputId": "2eef5f88-11cd-41f8-8b5a-2be440fa601f"
      },
      "outputs": [
        {
          "name": "stdout",
          "output_type": "stream",
          "text": [
            "C:\\Users\\PC\\Desktop\\UFAL\\Pesquisa\\AntSimulatorPython\\AntSimulator_2D\\Jupyter\n"
          ]
        }
      ],
      "source": [
        "import os, sys\n",
        "print(os.getcwd())\n",
        "sys.path.insert(0, os.getcwd())"
      ]
    },
    {
      "cell_type": "code",
      "execution_count": null,
      "id": "7860bdb1",
      "metadata": {
        "id": "7860bdb1"
      },
      "outputs": [],
      "source": [
        "import numpy as np\n",
        "from PIL import Image, ImageOps\n",
        "\n",
        "def readImage(image):\n",
        "    originalImage = Image.open(image)\n",
        "    #originalImage.show()\n",
        "    reducedImage = originalImage.resize((Problem['ny'],Problem['nx']))    \n",
        "    grayImage = ImageOps.grayscale(reducedImage)\n",
        "    elevation = np.array(grayImage)\n",
        "    return elevation"
      ]
    },
    {
      "cell_type": "code",
      "execution_count": null,
      "id": "171f08fb",
      "metadata": {
        "id": "171f08fb"
      },
      "outputs": [],
      "source": [
        "import numpy as np\n",
        "import pandas as pd\n",
        "import math"
      ]
    },
    {
      "cell_type": "code",
      "execution_count": null,
      "id": "12851cff",
      "metadata": {
        "id": "12851cff"
      },
      "outputs": [],
      "source": [
        "### Nest and Food cells ###\n",
        "Problem.update({\n",
        "    'nest':[1,Problem['ny']//2],\n",
        "    'food':[Problem['nx']-2,Problem['ny']//2] })"
      ]
    },
    {
      "cell_type": "code",
      "execution_count": null,
      "id": "b86e1caf",
      "metadata": {
        "id": "b86e1caf"
      },
      "outputs": [],
      "source": [
        "### Cost np.array: random values ###\n",
        "Problem.update({\n",
        "    'cost':np.random.default_rng().integers(low=Problem['costLB'],\n",
        "                                            high=Problem['costHB'],\n",
        "                                            size=(Problem['nx'],Problem['ny']),\n",
        "                                            endpoint=True).astype(float) })"
      ]
    },
    {
      "cell_type": "code",
      "execution_count": null,
      "id": "2dc07fad",
      "metadata": {
        "id": "2dc07fad"
      },
      "outputs": [],
      "source": [
        "Problem['cost']=readImage(Problem['cell_data'])\n",
        "#print(\"Problem['cost']=\",Problem['cost'])"
      ]
    },
    {
      "cell_type": "code",
      "execution_count": null,
      "id": "3bab366a",
      "metadata": {
        "id": "3bab366a",
        "outputId": "54e99b89-fe5d-436b-f6fb-7f7d4dd86b3c"
      },
      "outputs": [
        {
          "name": "stdout",
          "output_type": "stream",
          "text": [
            "Problem['cost'].shape =  (100, 100)\n"
          ]
        }
      ],
      "source": [
        "print(\"Problem['cost'].shape = \", Problem['cost'].shape)"
      ]
    },
    {
      "cell_type": "code",
      "execution_count": null,
      "id": "445fb84f",
      "metadata": {
        "id": "445fb84f"
      },
      "outputs": [],
      "source": [
        "### evaluating a given analytical function for cost at cell ###\n",
        "def funcAtCell(cellIdx):\n",
        "    ubCoords = unitBoxCoords(cellIdx)\n",
        "    x = ubCoords[0]; y = ubCoords[1]\n",
        "    return 2.*(20. * math.exp(-((x-0.5)**2+(y-0.5)**2))-17.)"
      ]
    },
    {
      "cell_type": "code",
      "execution_count": null,
      "id": "f189098b",
      "metadata": {
        "id": "f189098b"
      },
      "outputs": [],
      "source": [
        "### cell center coordenates ###\n",
        "def unitBoxCoords(cellIdx):\n",
        "    nx = ProblemData['nx']; ny = ProblemData['ny']\n",
        "    return np.array(cellIdx) / np.array([nx,ny]) + np.array([1./(2.*nx), 1./(2.*ny)])"
      ]
    },
    {
      "cell_type": "code",
      "execution_count": null,
      "id": "b859d83c",
      "metadata": {
        "id": "b859d83c"
      },
      "outputs": [],
      "source": [
        "### filling the cost nparray from the analytical function ###\n",
        "def costFromAnalFunc():\n",
        "    nx = Problem['nx']; ny = Problem['ny']\n",
        "    for i in range(nx):\n",
        "        for j in range(ny):\n",
        "            Problem['cost'][i][j] = funcAtCell([i,j])\n",
        "if(Problem['costFromAnalFunc']): costFromAnalFunc()"
      ]
    },
    {
      "cell_type": "code",
      "execution_count": null,
      "id": "4973b029",
      "metadata": {
        "id": "4973b029"
      },
      "outputs": [],
      "source": [
        "### filling the cost nparray from a given input file ###\n",
        "def fread_2Dcost():\n",
        "    Problem['cost'][:,:]=pd.read_csv(Problem['2Dcost_file'],sep=\"\\s+\",header=None).to_numpy().astype(float)\n",
        "if(Problem['fread_2Dcost']): fread_2Dcost()"
      ]
    },
    {
      "cell_type": "code",
      "execution_count": null,
      "id": "77aeeb41",
      "metadata": {
        "id": "77aeeb41"
      },
      "outputs": [],
      "source": [
        "def walls():\n",
        "    cost=Problem['cost']; lb=Problem['costLB']; hb=Problem['costHB']\n",
        "    return np.where(np.logical_and((cost>lb),(cost<hb)),False,True) #todo: invert"
      ]
    },
    {
      "cell_type": "code",
      "execution_count": null,
      "id": "4072961d",
      "metadata": {
        "id": "4072961d"
      },
      "outputs": [],
      "source": [
        "Problem.update({\n",
        "    'wall':walls()\n",
        "})"
      ]
    },
    {
      "cell_type": "code",
      "execution_count": null,
      "id": "d4edf0ab",
      "metadata": {
        "id": "d4edf0ab"
      },
      "outputs": [],
      "source": [
        "if(Problem['homogenize_cost']): Problem['cost'][:,:]=1."
      ]
    },
    {
      "cell_type": "code",
      "execution_count": null,
      "id": "0609b77b",
      "metadata": {
        "id": "0609b77b"
      },
      "outputs": [],
      "source": [
        "### convert nparrays to python lists ###\n",
        "#Problem['cost'] = Problem['cost'].tolist()\n",
        "#Problem['wall'] = Problem['wall'].tolist()\n",
        "#print('\\nProblem\\n----------\\n',Problem)"
      ]
    },
    {
      "cell_type": "code",
      "execution_count": null,
      "id": "34e1f6da",
      "metadata": {
        "id": "34e1f6da"
      },
      "outputs": [],
      "source": [
        "Simulator.update({\n",
        "    'alpha':1.,\n",
        "    'betha':1.,\n",
        "    'gamma':1.,\n",
        "    'rho':0.005,\n",
        "    'phi':0.05,\n",
        "    'neighborsNBR':9,\n",
        "    'cyclesNBR':70,\n",
        "    'cyclesPeriod':50,\n",
        "    'dt':1.,\n",
        "    'tmax':50.,\n",
        "    'initialFeromone':np.array([1,1],dtype=float),\n",
        "    'INFTY':1000000.,\n",
        "    'EPSILON':1./1000000.})\n",
        "#print('\\Simulator\\n----------\\n',Simulator)"
      ]
    },
    {
      "cell_type": "code",
      "execution_count": null,
      "id": "dbce7907",
      "metadata": {
        "id": "dbce7907"
      },
      "outputs": [],
      "source": [
        "from enum import Enum, unique"
      ]
    },
    {
      "cell_type": "code",
      "execution_count": null,
      "id": "03394084",
      "metadata": {
        "id": "03394084"
      },
      "outputs": [],
      "source": [
        "@unique\n",
        "class AntRole(Enum):\n",
        "    followToFoodFeromone = 1 #pg.Color('green4')\n",
        "    followToNestCostMax = 2 #pg.Color('black')\n",
        "    fleeToNestFeromone = 3 #pg.Color('red')\n",
        "    followToNestCostMin = 4 #pg.Color('darkorange4')"
      ]
    },
    {
      "cell_type": "code",
      "execution_count": null,
      "id": "f456b89e",
      "metadata": {
        "id": "f456b89e"
      },
      "outputs": [],
      "source": [
        "@unique\n",
        "class stats(Enum):\n",
        "    cost = 1\n",
        "    toNestCost = 2\n",
        "    toNestFeromone = 3\n",
        "    toFoodFeromone = 4\n",
        "    all = 5"
      ]
    },
    {
      "cell_type": "code",
      "execution_count": null,
      "id": "db5d2dcc",
      "metadata": {
        "id": "db5d2dcc"
      },
      "outputs": [],
      "source": [
        "import numpy as np\n",
        "import random\n",
        "import math\n",
        "import timeit\n",
        "import datetime\n",
        "import matplotlib.pyplot as plt"
      ]
    },
    {
      "cell_type": "code",
      "execution_count": null,
      "id": "9fec3b21",
      "metadata": {
        "id": "9fec3b21"
      },
      "outputs": [],
      "source": [
        "class Cell:\n",
        "    maxCost = np.sum(Problem['cost'])\n",
        "    nestToFoodMinStepsNBR = np.amax(np.abs(np.array(Problem['food'])-np.array(Problem['nest'])))\n",
        "\n",
        "    def __init__(self,Idx):\n",
        "        self.Idx = np.array(Idx)\n",
        "        self.isFree = True \n",
        "        self.cost = Problem['cost'][Idx[0]][Idx[1]]\n",
        "        self.toNestCost = 0. if self.isNest() else Cell.maxCost\n",
        "        self.feromone = np.copy(Simulator['initialFeromone'])\n",
        "        self.fenceBoundary()\n",
        "    \n",
        "    def fenceBoundary(self):\n",
        "        i = self.Idx[0]; j = self.Idx[1]\n",
        "        if( (i*j==0) or (i==nx-1) or (j==ny-1) ):\n",
        "            Problem['wall'][i][j] = True\n",
        "        \n",
        "    def isFood(self):\n",
        "        return np.array_equal(np.array(Problem['food']),self.Idx)\n",
        "        \n",
        "    def isNest(self):\n",
        "        return np.array_equal(np.array(Problem['nest']),self.Idx)\n",
        "\n",
        "    def onWall(self):\n",
        "        i = self.Idx[0]; j = self.Idx[1]\n",
        "        return Problem['wall'][i][j]\n",
        "\n",
        "    def coords(self):\n",
        "        return np.array(self.Idx)+1/2.\n",
        "\n",
        "    def normalizedCoords(self):\n",
        "        return self.coords()/ np.array([nx,ny])\n",
        "\n",
        "    def __eq__(self, other):\n",
        "        return np.array_equal(other.Idx,self.Idx)"
      ]
    },
    {
      "cell_type": "code",
      "execution_count": null,
      "id": "12088a23",
      "metadata": {
        "id": "12088a23"
      },
      "outputs": [],
      "source": [
        "nx = Problem['nx']; ny = Problem['ny']"
      ]
    },
    {
      "cell_type": "code",
      "execution_count": null,
      "id": "6edb5015",
      "metadata": {
        "id": "6edb5015"
      },
      "outputs": [],
      "source": [
        "class gridCells:\n",
        "    def __init__(self):\n",
        "        self.grid = np.ndarray(shape=(nx,ny),dtype=Cell)\n",
        "        for i in range(self.grid.shape[0]):\n",
        "            for j in range(self.grid.shape[1]):\n",
        "                self.grid[i,j] = Cell([i,j])\n",
        "\n",
        "    def cell(self,Idx):\n",
        "        i=Idx[0];j=Idx[1]\n",
        "        return self.grid[i][j]\n",
        "    \n",
        "    def update_wall(self,cell):\n",
        "        if cell.isNest() or cell.isFood(): return\n",
        "        idx = cell.Idx; i = idx[0]; j = idx[1]\n",
        "        Problem['wall'][i][j] = not Problem['wall'][i][j]"
      ]
    },
    {
      "cell_type": "code",
      "execution_count": null,
      "id": "0c4ea593",
      "metadata": {
        "id": "0c4ea593"
      },
      "outputs": [],
      "source": [
        "gcs = gridCells()"
      ]
    },
    {
      "cell_type": "code",
      "execution_count": null,
      "id": "258a296c",
      "metadata": {
        "id": "258a296c"
      },
      "outputs": [],
      "source": [
        "class Segment:\n",
        "    def __init__(self,cellA,cellB,idx):\n",
        "        self.Idx = idx\n",
        "        self.A = cellA\n",
        "        self.B = cellB\n",
        "        self.isDummy = np.array_equal(self.A.Idx,self.B.Idx)\n",
        "        self.cost = (self.A.cost+self.B.cost)/2.\n",
        "\n",
        "    def isUnviable(self):\n",
        "        return (self.A.onWall() or self.B.onWall() or self.isDummy)\n",
        "        \n",
        "    def __eq__(self, other):\n",
        "        if(not other): return False\n",
        "        return (self.A==other.A and self.B==other.B)\n",
        "\n",
        "    def isInverseOf(self,other):\n",
        "        if(not other): return False\n",
        "        return (self.A==other.B and self.B==other.A)"
      ]
    },
    {
      "cell_type": "code",
      "execution_count": null,
      "id": "18ee4b83",
      "metadata": {
        "id": "18ee4b83"
      },
      "outputs": [],
      "source": [
        "class gridSegments:\n",
        "    def __init__(self,gcs):\n",
        "        self.grid = np.ndarray(shape=(nx,ny),dtype=object)\n",
        "        self.gcs = gcs\n",
        "        ## todo create a feromone ndarray for all segments\n",
        "\n",
        "    def append(self,AIdx,BIdx,segIdx):\n",
        "        self.grid[AIdx[0]][AIdx[1]] = np.append(self.grid[AIdx[0]][AIdx[1]],\n",
        "            [ Segment(self.gcs.cell(AIdx),self.gcs.cell(BIdx),segIdx) ])\n",
        "\n",
        "    def feromone(self,segment):\n",
        "        #if(segment.isUnviable()): return np.array([0,0])\n",
        "        return segment.B.feromone\n",
        "\n",
        "    def AtoBIdx(self,segment):\n",
        "        return self.appendingIdx(segment.B.Idx - segment.A.Idx)\n",
        "\n",
        "    def BtoAIdx(self,segment):\n",
        "        return self.appendingIdx(segment.A.Idx - segment.B.Idx)\n",
        "\n",
        "    # todo keep deleting the 3d dimension tomorrow. 19/11/21\n",
        "    def appendingIdx(self,idx):\n",
        "        ii=idx[0];jj=idx[1]\n",
        "        return (ii+1)*3+(jj+1)\n",
        "\n",
        "    def inverseOf(self,segment):\n",
        "        BIdx = segment.B.Idx\n",
        "        return self.grid[BIdx[0]][BIdx[1]][self.BtoAIdx(segment)]"
      ]
    },
    {
      "cell_type": "code",
      "execution_count": null,
      "id": "e35749a3",
      "metadata": {
        "id": "e35749a3"
      },
      "outputs": [],
      "source": [
        "gss = gridSegments(gcs)\n",
        "for i in range(1,nx-1):\n",
        "    for j in range(1,ny-1):\n",
        "        for ii in [-1,0,1]:\n",
        "            for jj in [-1,0,1]:\n",
        "                segIdx = i*3+j+(ii+1)*3+(jj+1)\n",
        "                gss.append([i,j],[i+ii,j+jj],segIdx)\n",
        "        gss.grid[i][j] = np.delete(gss.grid[i][j],0)"
      ]
    },
    {
      "cell_type": "code",
      "execution_count": null,
      "id": "16c76e52",
      "metadata": {
        "id": "16c76e52"
      },
      "outputs": [],
      "source": [
        "class Ant:\n",
        "    alpha = Simulator['alpha']\n",
        "    betha = Simulator['betha']\n",
        "    gamma = Simulator['gamma']\n",
        "    INFTY = Simulator['INFTY']\n",
        "    EPSILON = Simulator['EPSILON']\n",
        "    neighborsNBR = Simulator['neighborsNBR']\n",
        "\n",
        "    def __init__(self,Idx,nestCell):\n",
        "        self.Idx = Idx\n",
        "        self.route = []\n",
        "        self.cyclesNBR = 0\n",
        "        self.cycleSize = 0\n",
        "        self.bestPath = []\n",
        "        self.minToNestCost = Cell.maxCost\n",
        "        self.proposeColonyBestPath = False\n",
        "        self.stoppingCounter = 0 # sometimes it get stuck because of recentelyvisitedcells\n",
        "        self.isSelected = False\n",
        "        self.isRetired = False\n",
        "        self.status = {'role':AntRole.followToNestCostMax,\n",
        "                       'toFood':True,\n",
        "                       'currCell':nestCell,'nextCell':None,'nextSegment':None}\n",
        "\n",
        "    def step(self):\n",
        "        if self.status['currCell'].isFood() or self.status['currCell'].isNest():\n",
        "            self.initializeNewCycle()\n",
        "        self.identifyNextCell()\n",
        "        if(self.status['nextCell']) is not None:\n",
        "            self.proceed()\n",
        "\n",
        "    def identifyNextCell(self):\n",
        "        # initialize with no nextCell found\n",
        "        self.status['nextCell'] = None\n",
        "        # no need to identify for retired ants\n",
        "        if self.isRetired: return\n",
        "        # the creteria depends on wether the ant is going to food or to nest.\n",
        "        if self.status['toFood']: self.identifyNextCellToFood()\n",
        "        else: self.identifyNextCellToNest()\n",
        "\n",
        "    def proceed(self):\n",
        "        if self.cycleSize==0: self.updateNeighborhood()\n",
        "        self.cycleSize += 1\n",
        "        self.moveToNextCell()\n",
        "        self.updateNeighborhood()\n",
        "        self.updateRoute()\n",
        "        if self.reachedGoal():\n",
        "            self.cyclesNBR +=1\n",
        "            self.updateBestPath()\n",
        "            self.status['toFood'] = not self.status['toFood']\n",
        "            if not self.isRetired: self.isRetired = self.isSelected and not self.status['currCell'].isFood()\n",
        "\n",
        "    def recentelyVisited(self,cellB,n = 4): # Cell.nestToFoodMinStepsNBR for the ant to avoid to be stuck in a short loop.\n",
        "        if self.stoppingCounter > 1: return False\n",
        "        for seg in self.route[len(self.route)-n:][::-1]:\n",
        "            if(cellB == seg.A or cellB == seg.B): return True\n",
        "        return False\n",
        "\n",
        "    def dFeromone(self):\n",
        "        return (np.array([0,1]) if self.status['toFood'] else np.array([1,0]))\n",
        "\n",
        "    def moveToNextCell(self):\n",
        "        # free the cell and go to the next one\n",
        "        self.status['currCell'].isFree = True\n",
        "        self.status['currCell'] = self.status['nextCell']\n",
        "        # occupy the new cell except if it is food or nest, then let it be free for other ants to access it.\n",
        "        if (self.status['currCell'].isNest() or self.status['currCell'].isFood()):\n",
        "            self.status['currCell'].isFree = True\n",
        "        else: self.status['currCell'].isFree = False\n",
        "\n",
        "    def updateNeighborhood(self):\n",
        "        AIdx = self.status['currCell'].Idx\n",
        "        fromAToNestCost = self.status['currCell'].toNestCost\n",
        "        self.status['currCell'].feromone += self.dFeromone()\n",
        "        data = np.zeros(shape=(self.neighborsNBR,),dtype=float)\n",
        "        for segment in gss.grid[AIdx[0]][AIdx[1]]:\n",
        "            segment.B.toNestCost = min(segment.B.toNestCost, fromAToNestCost + segment.B.cost)\n",
        "            segment.B.feromone += self.dFeromone()\n",
        "\n",
        "    def updateRoute(self):\n",
        "        self.route = np.append(self.route,self.status['nextSegment'])\n",
        "\n",
        "    def updateBestPath(self):\n",
        "        if not self.status['currCell'].isFood():\n",
        "            lastCycleCost = self.routeCost(self.route)\n",
        "            if(lastCycleCost <= self.minToNestCost):\n",
        "                self.minToNestCost = lastCycleCost\n",
        "                self.bestPath = np.copy(self.route)\n",
        "                self.proposeColonyBestPath = True\n",
        "                self.printBestPath()\n",
        "\n",
        "    def initializeNewCycle(self):\n",
        "        self.route = []\n",
        "        self.cycleSize = 0\n",
        "\n",
        "    def reachedGoal(self):\n",
        "        return (self.reachedFood() or self.reachedNest())\n",
        "\n",
        "    def reachedFood(self):\n",
        "        return (self.status['currCell'].isFood() and self.status['toFood'])\n",
        "\n",
        "    def reachedNest(self):\n",
        "        return (self.status['currCell'].isNest() and not self.status['toFood'])\n",
        "\n",
        "    def routeCost(self,route):\n",
        "        sumCost = 0.\n",
        "        for segment in route: sumCost += segment.cost\n",
        "        return sumCost\n",
        "\n",
        "    def printBestPath(self):\n",
        "        if(self.cyclesNBR==0): return\n",
        "        print(r\"ant's minToNestCost = \",self.minToNestCost,end=', ')\n",
        "        self.printRoute(self.bestPath,name='antBestPath: ')\n",
        "\n",
        "    def printRoute(self,route,name='givenRoute'):\n",
        "        if(len(route)==0): return\n",
        "        print(r'ant.Idx = ',self.Idx,', cyclesNBR = ',self.cyclesNBR,', len(route): ',len(route), end='')\n",
        "        print(r', ', name, end='')\n",
        "        for segment in route:\n",
        "            print(r'(',segment.A.Idx,',',segment.B.Idx,')', end='; ')        \n",
        "        print()"
      ]
    },
    {
      "cell_type": "code",
      "execution_count": null,
      "id": "248cee6e",
      "metadata": {
        "id": "248cee6e"
      },
      "outputs": [],
      "source": [
        "class Ant(Ant):\n",
        "    def identifyNextCellToFood(self):\n",
        "        self.fleeToNestFeromone()\n",
        "        \n",
        "    def fleeToNestFeromone(self):\n",
        "        self.status['role'] = AntRole.fleeToNestFeromone\n",
        "        AIdx = self.status['currCell'].Idx\n",
        "        data = np.zeros(shape=(self.neighborsNBR,),dtype=float)\n",
        "        for i,segment in enumerate(gss.grid[AIdx[0]][AIdx[1]]):\n",
        "            tho = gss.feromone(segment)[1]\n",
        "            etha = 1./max(gss.feromone(segment)[0], 1.) #segment.cost\n",
        "            if np.random.rand() < 0.8: data[i] = gss.feromone(segment)[1]\n",
        "            else: data[i] = tho**self.alpha * etha**self.betha\n",
        "            #data[i] = gss.feromone(segment)[1]\n",
        "            if segment.isUnviable(): data[i] = Ant.INFTY # these data shouldn't interfere\n",
        "        denominator = np.sum(data)\n",
        "        if denominator > Ant.EPSILON: data /= denominator        \n",
        "        orderedDataIdx = np.lexsort((np.random.random(len(data)), data))[::1] # [::1] means from min to max\n",
        "        for i in orderedDataIdx:\n",
        "            nextSegmentCandidate = gss.grid[AIdx[0]][AIdx[1]][i]\n",
        "            if nextSegmentCandidate.isUnviable(): continue\n",
        "            if self.recentelyVisited(nextSegmentCandidate.B): continue\n",
        "            nextCellCandidate = gss.grid[AIdx[0]][AIdx[1]][i].B\n",
        "            if(nextCellCandidate.isFree):\n",
        "                self.status['nextCell'] = nextCellCandidate\n",
        "                self.status['nextSegment'] = gss.grid[AIdx[0]][AIdx[1]][i]\n",
        "                self.stoppingCounter = 0\n",
        "                return True\n",
        "        self.stoppingCounter += 1\n",
        "        return False"
      ]
    },
    {
      "cell_type": "code",
      "execution_count": null,
      "id": "becb7594",
      "metadata": {
        "id": "becb7594"
      },
      "outputs": [],
      "source": [
        "class Ant(Ant):\n",
        "    def identifyNextCellToNest(self):\n",
        "        self.followToNestCostMin()\n",
        "        \n",
        "    def followToNestCostMin(self):\n",
        "        self.status['role'] = AntRole.followToNestCostMin\n",
        "        AIdx = self.status['currCell'].Idx\n",
        "        data = np.zeros(shape=(self.neighborsNBR,),dtype=float)\n",
        "        for i,segment in enumerate(gss.grid[AIdx[0]][AIdx[1]]):\n",
        "            data[i] = segment.B.toNestCost\n",
        "            if segment.isUnviable(): data[i] = Ant.INFTY # these data shouldn't interfere\n",
        "        denominator = np.sum(data)\n",
        "        if denominator > Ant.EPSILON: data /= denominator\n",
        "        orderedDataIdx = np.lexsort((np.random.random(len(data)), data))[::1] # [::1] means from min to max\n",
        "        for i in orderedDataIdx:\n",
        "            nextSegmentCandidate = gss.grid[AIdx[0]][AIdx[1]][i]\n",
        "            if nextSegmentCandidate.isUnviable(): continue\n",
        "            nextCellCandidate = gss.grid[AIdx[0]][AIdx[1]][i].B\n",
        "            if(nextCellCandidate.isFree or not self.status['toFood']):\n",
        "                self.status['nextCell'] = nextCellCandidate\n",
        "                self.status['nextSegment'] = gss.grid[AIdx[0]][AIdx[1]][i]\n",
        "                return True\n",
        "        return False"
      ]
    },
    {
      "cell_type": "code",
      "execution_count": null,
      "id": "a2377acd",
      "metadata": {
        "id": "a2377acd"
      },
      "outputs": [],
      "source": [
        "class AntsColony:\n",
        "    size = Simulator['antsNBR']\n",
        "    def __init__(self,gcs):\n",
        "        self.gcs = gcs\n",
        "        self.bestPath = []\n",
        "        self.secondBestPath = []\n",
        "        self.feromoneEvaporationRate = 0.\n",
        "        self.minToNestCost = Cell.maxCost\n",
        "        self.ants = np.ndarray((AntsColony.size,),dtype=Ant)\n",
        "        for i in range(AntsColony.size):\n",
        "            self.ants[i] = Ant(i,self.gcs.cell(Problem['nest']))\n",
        "        \n",
        "    def update_nestCell(self,cell):        \n",
        "        #print(\"Problem['nest'] = \",Problem['nest'])\n",
        "        A = self.gcs.cell(Problem['nest'])\n",
        "        self.moveFromAtoB(A,cell)\n",
        "        idx = cell.Idx; i = idx[0]; j = idx[1]\n",
        "        Problem['nest'] = cell.Idx\n",
        "        Problem['wall'][i][j] = False\n",
        "        #print(\"Problem['nest'] = \",Problem['nest'])\n",
        "        \n",
        "    def moveFromAtoB(self,A,B):\n",
        "        A.toNestCost = Cell.maxCost\n",
        "        B.toNestCost = 0.\n",
        "        for i in range(AntsColony.size):\n",
        "            self.ants[i].status['currCell'] = B\n",
        "        \n",
        "    def update_foodCell(self,cell):\n",
        "        print(\"Problem['food'] = \",Problem['food'])\n",
        "        idx = cell.Idx; i = idx[0]; j = idx[1]\n",
        "        Problem['food'] = idx\n",
        "        Problem['wall'][i][j] = False\n",
        "        print(\"Problem['food'] = \",Problem['food'])\n",
        "        \n",
        "    def updateBestPath(self,ant):\n",
        "        if(ant.minToNestCost < self.minToNestCost):\n",
        "            self.minToNestCost = ant.minToNestCost\n",
        "            self.secondBestPath = np.copy(self.bestPath)\n",
        "            self.bestPath = np.copy(ant.bestPath)\n",
        "            self.printBestPath()\n",
        "            return True\n",
        "        return False\n",
        "\n",
        "    def printBestPath(self):\n",
        "        print(r\"colony's minToNestCost = \",self.minToNestCost,end=', ')\n",
        "        for segment in self.bestPath:\n",
        "            print(r'(',segment.A.Idx,',',segment.B.Idx,')', end='; ')\n",
        "        print()\n",
        "\n",
        "    def evaporateFeromone(self):\n",
        "        if len(self.bestPath) == 0: return\n",
        "        self.feromoneEvaporationRate = 0.01/len(self.bestPath)\n",
        "        grid = self.gcs.grid\n",
        "        for i in range(grid.shape[0]):\n",
        "            for j in range(grid.shape[1]):\n",
        "                    grid[i,j].feromone *= max((1. - self.feromoneEvaporationRate),0.) # k=1 for dim==2"
      ]
    },
    {
      "cell_type": "code",
      "execution_count": null,
      "id": "6bb15448",
      "metadata": {
        "id": "6bb15448",
        "outputId": "9e7553f4-7912-4a88-9172-5335a3af391d"
      },
      "outputs": [
        {
          "name": "stdout",
          "output_type": "stream",
          "text": [
            "pygame 2.1.0 (SDL 2.0.16, Python 3.8.8)\n",
            "Hello from the pygame community. https://www.pygame.org/contribute.html\n"
          ]
        }
      ],
      "source": [
        "import pygame as pg\n",
        "from pygame.locals import *"
      ]
    },
    {
      "cell_type": "code",
      "execution_count": null,
      "id": "5529b9c5",
      "metadata": {
        "id": "5529b9c5"
      },
      "outputs": [],
      "source": [
        "nx = Problem['nx']\n",
        "ny = Problem['ny']\n",
        "#nest = Problem['nest']\n",
        "#food = Problem['food']"
      ]
    },
    {
      "cell_type": "code",
      "execution_count": null,
      "id": "ee4bd557",
      "metadata": {
        "id": "ee4bd557"
      },
      "outputs": [],
      "source": [
        "class Colors:\n",
        "    cellPerimeter = pg.Color('black')\n",
        "    text = pg.Color('black')\n",
        "    wall = pg.Color('grey40')\n",
        "    domain = pg.Color('grey99')\n",
        "    food = pg.Color('green');\n",
        "    nest = pg.Color('orange')\n",
        "\n",
        "    # ant's color\n",
        "    followToFoodFeromone = pg.Color('green4')\n",
        "    followToNestCostMax = pg.Color('black')\n",
        "    fleeToNestFeromone = pg.Color('red')\n",
        "    followToNestCostMin = pg.Color('darkorange4')\n",
        "    secondBestPath = pg.Color('yellow')\n",
        "    bestPath = pg.Color('blue')\n",
        "\n",
        "    # route's color\n",
        "    toFood = nest\n",
        "    toNest = food\n",
        "\n",
        "    # colorBar\n",
        "    minValue = pg.Color('white') # pg.Color('gray99')\n",
        "    #maxValue = pg.Color('black')\n",
        "    maxValue = pg.Color('black') # pg.Color('darkslategray')"
      ]
    },
    {
      "cell_type": "code",
      "execution_count": null,
      "id": "cd5fda68",
      "metadata": {
        "id": "cd5fda68"
      },
      "outputs": [],
      "source": [
        "class DisplayerManager:\n",
        "    #def __init__(self,gcs,gss,antsColony,width=960,height=720,name=f'Ant Simulator'):\n",
        "    #def __init__(self,gcs,gss,antsColony,width=(4/3)*960,height=(4/3)*720,name=f'Ant Simulator'):\n",
        "    def __init__(self,gcs,gss,antsColony,width=3*620,height=3*330,name=f'Ant Simulator'):\n",
        "    #def __init__(self,gcs,gss,antsColony,width=1820,height=980,name=f'Ant Simulator'):\n",
        "        self.gcs = gcs\n",
        "        self.gss = gss\n",
        "        self.antsColony = antsColony\n",
        "        self.width = width\n",
        "        self.height = height\n",
        "        self.name = name\n",
        "        self.cell_width = width//nx\n",
        "        self.cell_height = height//ny\n",
        "\n",
        "        pg.init()\n",
        "        pg.font.init()\n",
        "        self.window = pg.display.set_mode((self.width,self.height))\n",
        "        pg.display.set_caption(self.name)\n",
        "        self.clock = pg.time.Clock()\n",
        "        self.initialDisplay = True\n",
        "        self.display = True\n",
        "\n",
        "        self.antImg = pg.image.load('ant.png').convert_alpha()\n",
        "        antHeight = self.cell_height\n",
        "        antWidth = int(antHeight * self.antImg.get_width()/self.antImg.get_height())\n",
        "        self.antImg = pg.transform.scale(self.antImg, (antWidth, antHeight))\n",
        "\n",
        "        self.xOffset = (self.cell_width - self.antImg.get_width())//2\n",
        "        self.yOffset = (self.cell_height - self.antImg.get_height())//2\n",
        "\n",
        "        self.minExposedDataValue = Simulator['INFTY']\n",
        "        self.maxExposedDataValue = 0.\n",
        "        self.spanOfData = self.maxExposedDataValue - self.minExposedDataValue\n",
        "        self.selectedPath = []\n",
        "\n",
        "    def run(self):\n",
        "        i = 0\n",
        "        while self.initialDisplay:\n",
        "            print(\"press the 'p' botton to start.\")\n",
        "            self.update()\n",
        "        \n",
        "    def routeColor(self,ant):\n",
        "        return Colors.toFood if ant.status['toFood'] else Colors.toNest\n",
        "\n",
        "    def antColor(self,ant):\n",
        "        if ant.status['role'] == AntRole.followToFoodFeromone: return Colors.followToFoodFeromone\n",
        "        elif ant.status['role'] == AntRole.followToNestCostMax: return Colors.followToNestCostMax\n",
        "        elif ant.status['role'] == AntRole.fleeToNestFeromone: return Colors.fleeToNestFeromone\n",
        "        elif ant.status['role'] == AntRole.followToNestCostMin: return Colors.followToNestCostMin\n",
        "\n",
        "    def update(self):\n",
        "        self.draw()\n",
        "        self.processEvent()\n",
        "        self.clock.tick(3)\n",
        "\n",
        "    def quit(self):\n",
        "        pg.quit()\n",
        "\n",
        "    def draw_retiredAntsLastPaths(self,color):\n",
        "        for ant in self.antsColony.ants:\n",
        "            if not ant.isRetired: continue\n",
        "            self.draw_route(ant.route,color)\n",
        "\n",
        "    def draw_domain(self):\n",
        "        self.window.fill(Colors.domain)\n",
        "\n",
        "    def updateDataSpan(self,data):\n",
        "        self.minExposedDataValue = Simulator['INFTY']\n",
        "        self.maxExposedDataValue = -Simulator['INFTY']\n",
        "        for i in range(0,nx):\n",
        "            for j in range(0,ny):\n",
        "                cell = self.gcs.grid[i][j]\n",
        "                if cell.onWall(): continue\n",
        "                if data == stats.toNestCost:\n",
        "                    if cell.toNestCost < self.minExposedDataValue: self.minExposedDataValue = cell.toNestCost\n",
        "                    if cell.toNestCost > self.maxExposedDataValue: self.maxExposedDataValue = cell.toNestCost\n",
        "                if data == stats.cost:\n",
        "                    if cell.cost < self.minExposedDataValue: self.minExposedDataValue = cell.cost\n",
        "                    if cell.cost > self.maxExposedDataValue: self.maxExposedDataValue = cell.cost\n",
        "                if data == stats.toFoodFeromone:\n",
        "                    if cell.toFoodFeromone < self.minExposedDataValue: self.minExposedDataValue = cell.toFoodFeromone\n",
        "                    if cell.toFoodFeromone > self.maxExposedDataValue: self.maxExposedDataValue = cell.toFoodFeromone\n",
        "                if data == stats.toNestFeromone:\n",
        "                    if cell.toNestFeromone < self.minExposedDataValue: self.minExposedDataValue = cell.toNestFeromone\n",
        "                    if cell.toNestFeromone > self.maxExposedDataValue: self.maxExposedDataValue = cell.toNestFeromone\n",
        "        self.spanOfData = self.maxExposedDataValue - self.minExposedDataValue\n",
        "\n",
        "    def draw_cellData(self,data = None):\n",
        "        if not data: return\n",
        "    \n",
        "        self.updateDataSpan(data)        \n",
        "        for i in range(0,nx):\n",
        "            for j in range(0,ny):\n",
        "                cell = self.gcs.grid[i][j]\n",
        "                if cell.onWall(): continue\n",
        "                if data == stats.toNestCost:\n",
        "                    dataValue = cell.toNestCost\n",
        "                elif data == stats.cost:\n",
        "                    dataValue = cell.cost\n",
        "                elif data == stats.toFoodFeromone:\n",
        "                    dataValue = cell.feromone[0]\n",
        "                elif data == stats.toNestFeromone:\n",
        "                    dataValue = cell.feromone[1]\n",
        "                else: return\n",
        "                \n",
        "                coeff = (dataValue - self.minExposedDataValue)/self.spanOfData\n",
        "                color = Colors.minValue.lerp(Colors.maxValue, coeff)\n",
        "                if Problem['homogenize_cost']: color = pg.Color('white')\n",
        "                xCell = i * self.cell_width\n",
        "                yCell = j * self.cell_height\n",
        "                self.draw_rectangle(color,xCell,yCell)\n",
        "\n",
        "    def plot_cellDataContour(self,data = None):\n",
        "        if not data: return\n",
        "        self.updateDataSpan(data)\n",
        "        z = np.zeros(shape=(nx,ny),dtype=float)\n",
        "        #x = np.zeros(shape=(nx,),dtype=float)\n",
        "        #y = np.zeros(shape=(ny,),dtype=float)\n",
        "        for i in range(0,nx):\n",
        "            for j in range(0,ny):\n",
        "                cell = self.gcs.grid[i][j]\n",
        "                if cell.onWall(): continue\n",
        "                if data == stats.toNestCost:\n",
        "                    dataValue = cell.toNestCost\n",
        "                elif data == stats.cost:\n",
        "                    dataValue = cell.cost\n",
        "                #elif data == stats.toFoodFeromone:\n",
        "                #    dataValue = cell.feromone[0]\n",
        "                #elif data == stats.toNestFeromone:\n",
        "                #    dataValue = cell.feromone[1]\n",
        "                else: return\n",
        "                z[i][j] = dataValue\n",
        "\n",
        "        #fig = go.Figure(data = go.Contour(\n",
        "        #    z = z,\n",
        "        #    x = np.arange(nx, dtype = float), # horizontal axis\n",
        "        #    y = np.arange(ny, dtype = float), # vertical axis\n",
        "        #    colorscale='Hot',\n",
        "        #    contours_coloring='lines',\n",
        "        #    line_width=2,\n",
        "        #    contours=dict(\n",
        "        #        coloring ='heatmap',\n",
        "        #        showlabels = True, # show labels on contours\n",
        "        #        labelfont = dict( # label font properties\n",
        "        #            size = 12,\n",
        "        #            color = 'black' ),\n",
        "        #        start=self.minExposedDataValue,\n",
        "        #        end=self.maxExposedDataValue,\n",
        "        #        size=(self.maxExposedDataValue-self.minExposedDataValue)/10.,\n",
        "        #        )))\n",
        "        fig = go.Figure(data =\n",
        "            go.Contour(\n",
        "                z= z,\n",
        "                dx=1,\n",
        "                x0=0,\n",
        "                dy=1,\n",
        "                y0=0,\n",
        "            ))\n",
        "        #fig.update_layout(legend_traceorder=\"reversed\")\n",
        "        name = \"\"\n",
        "        if data == stats.toNestCost: name = \"toNestCost\"\n",
        "        elif data == stats.cost: name = \"cost\"\n",
        "        fig.write_html(name+\".html\", auto_open=True)\n",
        "\n",
        "    def draw_cell(self,color,x,y,board_thikness=1):\n",
        "        pg.draw.rect(self.window, color, pg.Rect(x,y,self.cell_width,self.cell_height),board_thikness)\n",
        "\n",
        "    def text_cell(self,data,x,y,board_thikness=1):\n",
        "        font=pg.font.SysFont('timesnewroman', 12)\n",
        "        text = font.render(data, True, Colors.text, Colors.domain)\n",
        "        textRect = text.get_rect()\n",
        "        textRect.center = (x + self.cell_width//2, y + self.cell_height//2)\n",
        "        self.window.blit(text, textRect)\n",
        "\n",
        "    def cellAtScreenPos(self,pos):\n",
        "        print(r'pos[0] = ',pos[0], ', pos[1] = ',pos[1])\n",
        "        i=pos[0]//self.cell_width; j=pos[1]//self.cell_height\n",
        "        print(r'i = ',i, ', j = ',j)\n",
        "        print(r'cellIdx = ',self.gcs.grid[i][j].Idx)\n",
        "        return self.gcs.grid[i][j]\n",
        "\n",
        "    def antAtCell(self,cell):\n",
        "        for ant in self.antsColony.ants:\n",
        "            if ant.status['currCell'] == cell:\n",
        "                return ant\n",
        "            else: return None\n",
        "\n",
        "    def draw_nest(self):\n",
        "        nest = Problem['nest']\n",
        "        xNest = nest[0] * self.cell_width\n",
        "        yNest = nest[1] * self.cell_height\n",
        "        self.draw_rectangle(Colors.nest,xNest,yNest)\n",
        "\n",
        "    def draw_food(self):\n",
        "        food = Problem['food']\n",
        "        xfood = food[0] * self.cell_width\n",
        "        yfood = food[1] * self.cell_height\n",
        "        self.draw_rectangle(Colors.food,xfood,yfood)\n",
        "\n",
        "    def draw_ants(self):\n",
        "        for ant in self.antsColony.ants:\n",
        "            if ant.isRetired: continue\n",
        "            self.draw_ant(ant)\n",
        "\n",
        "    def draw_ant(self,ant):\n",
        "        #self.draw_route(ant.route,color=self.routeColor(ant))\n",
        "        self.colorAnt(self.antColor(ant))\n",
        "        self.blitRotatedAnt(ant)\n",
        "\n",
        "    def draw_route(self,route,color):\n",
        "        if(len(route)==0): return\n",
        "        for segment in route:\n",
        "            cell = segment.B\n",
        "            if cell.isNest() or cell.isFood(): continue\n",
        "            xCell = cell.Idx[0] * self.cell_width\n",
        "            yCell = cell.Idx[1] * self.cell_height\n",
        "            self.draw_rectangle(color,xCell,yCell)\n",
        "\n",
        "    def blitRotatedAnt(self,ant):\n",
        "        BIdx = ant.status['currCell'].Idx\n",
        "\n",
        "        xCell = BIdx[0] * self.cell_width\n",
        "        yCell = BIdx[1] * self.cell_height\n",
        "        #self.draw_cell(wall_color,xCell,yCell)\n",
        "\n",
        "        image = self.antImg\n",
        "        xant = xCell + self.xOffset\n",
        "        yant = yCell + self.yOffset\n",
        "        ##self.window.blit(image, (xant, yant))\n",
        "\n",
        "        antRect = image.get_rect()\n",
        "        antRect.move_ip(xant,yant)\n",
        "        #pg.draw.rect(self.window, ant.color(), antRect, 1)\n",
        "\n",
        "        image = pg.transform.rotozoom(image, self.orientation(ant), 1)\n",
        "        self.window.blit(image, image.get_rect(center = antRect.center))\n",
        "\n",
        "    def orientation(self,ant):\n",
        "        if not len(ant.route): return 0.\n",
        "        AIdx = ant.route[-1].A.Idx\n",
        "        BIdx = ant.route[-1].B.Idx\n",
        "        dx = BIdx[0] - AIdx[0]\n",
        "        dy = BIdx[1] - AIdx[1]\n",
        "        return math.degrees(-math.atan2(dy, dx)-math.pi/2.)\n",
        "\n",
        "    def colorAnt(self, color):\n",
        "        \"\"\"Fill all pixels of the antImg with color, preserve transparency.\"\"\"\n",
        "        w, h = self.antImg.get_size()\n",
        "        r, g, b, _ = color\n",
        "        for x in range(w):\n",
        "            for y in range(h):\n",
        "                a = self.antImg.get_at((x, y))[3]\n",
        "                self.antImg.set_at((x, y), pg.Color(r, g, b, a))\n",
        "\n",
        "    def draw_rectangle(self,color,x,y):\n",
        "        pg.draw.rect(self.window, color, pg.Rect(x,y,self.cell_width,self.cell_height))"
      ]
    },
    {
      "cell_type": "code",
      "execution_count": null,
      "id": "e6584d18",
      "metadata": {
        "id": "e6584d18"
      },
      "outputs": [],
      "source": [
        "class DisplayerManager(DisplayerManager):\n",
        "    def draw_walls(self):\n",
        "        for i in range(self.gcs.grid.shape[0]):\n",
        "            for j in range(self.gcs.grid.shape[1]):\n",
        "                cell = self.gcs.grid[i,j]\n",
        "                if cell.onWall(): self.draw_wall(cell)\n",
        "\n",
        "    def draw_wall(self,cell):\n",
        "        idx = cell.Idx; x = idx[0]; y = idx[1] \n",
        "        xCell = x * self.cell_width\n",
        "        yCell = y * self.cell_height\n",
        "        self.draw_rectangle(Colors.wall,xCell,yCell)"
      ]
    },
    {
      "cell_type": "code",
      "execution_count": null,
      "id": "be1fa703",
      "metadata": {
        "id": "be1fa703"
      },
      "outputs": [],
      "source": [
        "class DisplayerManager(DisplayerManager):\n",
        "    def processEvent(self):\n",
        "        for event in pg.event.get():\n",
        "            if event.type == pg.QUIT:\n",
        "                self.display = False\n",
        "            elif event.type == pg.KEYDOWN:\n",
        "                if event.key == pg.K_SPACE: ## space tab to freez the simulation/execution\n",
        "                    resumeComupation = False\n",
        "                    while not resumeComupation:\n",
        "                        for evnt2 in pg.event.get():\n",
        "                            if evnt2.type == pg.KEYDOWN:\n",
        "                                if evnt2.key == pg.K_r: ## press r to resume / unfreez\n",
        "                                    resumeComupation = True\n",
        "                                if evnt2.key == pg.K_u:\n",
        "                                    self.draw_domain()\n",
        "                                    self.draw_walls()\n",
        "                                    self.draw_cellData(stats.cost)\n",
        "                                    self.print_cellData(stats.all)\n",
        "                                    pg.display.flip()\n",
        "                                if evnt2.key == pg.K_c:\n",
        "                                    self.plot_cellDataContour(stats.cost)\n",
        "                                if evnt2.key == pg.K_n:\n",
        "                                    self.plot_cellDataContour(stats.toNestCost)\n",
        "\n",
        "                            elif evnt2.type == pg.MOUSEBUTTONDOWN:\n",
        "                                cell = self.cellAtScreenPos(pg.mouse.get_pos())\n",
        "                                ant = self.antAtCell(cell)\n",
        "                                if ant is None:\n",
        "                                    print(\"cell is selected, cell.Idx = \",cell.Idx)\n",
        "                                    \n",
        "                                    if evnt2.button == 1:\n",
        "                                        print(\"You pressed the left mouse button: Wall\")\n",
        "                                        self.gcs.update_wall(cell)\n",
        "                                    elif evnt2.button == 2:\n",
        "                                        print(\"You pressed the mouse wheel button: Food\")\n",
        "                                        self.antsColony.update_foodCell(cell)\n",
        "                                    elif evnt2.button == 3:\n",
        "                                        print(\"You pressed the right mouse button: Nest\")\n",
        "                                        self.antsColony.update_nestCell(cell)\n",
        "                            \n",
        "                                    self.draw()\n",
        "                                else:\n",
        "                                    if not cell.isNest():\n",
        "                                        print(\"ant is selected, ant.Idx = \",ant.Idx)\n",
        "                                        print(\"np.array(Problem['nest']) = \", np.array(Problem['nest']))\n",
        "                                        print(\"cell.Idx = \", cell.Idx)\n",
        "                                        print(\"cell.isNest() = \", cell.isNest())\n",
        "                                        ant.isSelected = True\n",
        "                # stop initial display in order to run the timeManager\n",
        "                elif event.key == pg.K_p:\n",
        "                    self.initialDisplay = False\n",
        "                    print('### key p pressed.')"
      ]
    },
    {
      "cell_type": "code",
      "execution_count": null,
      "id": "c4964f07",
      "metadata": {
        "id": "c4964f07"
      },
      "outputs": [],
      "source": [
        "class DisplayerManager(DisplayerManager):\n",
        "    def draw(self):\n",
        "        self.draw_domain()\n",
        "        self.draw_walls()\n",
        "        self.draw_cellData(stats.cost)\n",
        "        self.draw_nest()\n",
        "        self.draw_food()\n",
        "        self.draw_route(self.antsColony.secondBestPath,Colors.secondBestPath)\n",
        "        self.draw_route(self.antsColony.bestPath,Colors.bestPath)\n",
        "        self.draw_retiredAntsLastPaths(Colors.bestPath)\n",
        "        self.draw_ants()\n",
        "        #self.print_cellData(stats.all)\n",
        "        pg.display.flip()"
      ]
    },
    {
      "cell_type": "code",
      "execution_count": null,
      "id": "a43db606",
      "metadata": {
        "id": "a43db606"
      },
      "outputs": [],
      "source": [
        "class DisplayerManager(DisplayerManager):\n",
        "    def print_cellData(self,data = None):\n",
        "        if not data: return\n",
        "        for i in range(0,nx):\n",
        "            for j in range(0,ny):\n",
        "                cell = self.gcs.grid[i][j]\n",
        "                if cell.onWall(): continue\n",
        "                xCell = i * self.cell_width\n",
        "                yCell = j * self.cell_height\n",
        "                self.draw_cell(Colors.cellPerimeter,xCell,yCell)\n",
        "                if data == stats.toNestCost:\n",
        "                    dataValue = str(int(cell.toNestCost))\n",
        "                elif data == stats.cost:\n",
        "                    dataValue = str(int(cell.cost))\n",
        "                elif data == stats.toFoodFeromone:\n",
        "                    dataValue = str(int(cell.feromone[0]))\n",
        "                elif data == stats.toNestFeromone:\n",
        "                    dataValue = str(int(cell.feromone[1]))\n",
        "                elif data == stats.all:\n",
        "                    #dataValue = \"(\"+str(int(cell.cost))+\";\"+str(int(cell.toNestCost))+\";\"+str(int(cell.feromone[0]))+\";\"+str(int(cell.feromone[1]))+\")\"\n",
        "                    dataValue = \"(\"+str(int(cell.cost))+\";\"+str(int(cell.toNestCost))+\")\"\n",
        "                else: return\n",
        "                self.text_cell(dataValue,xCell,yCell)"
      ]
    },
    {
      "cell_type": "code",
      "execution_count": null,
      "id": "5d0af1bc",
      "metadata": {
        "id": "5d0af1bc"
      },
      "outputs": [],
      "source": [
        "class TimeManager:\n",
        "    def __init__(self):\n",
        "        self.time = 0.\n",
        "        self.it = 0\n",
        "        self.dt=Simulator['dt']\n",
        "        self.tmax=Simulator['tmax']\n",
        "        self.simStartInstant = timeit.default_timer()\n",
        "        self.bestPathTimeSpan_Cost = []\n",
        "        self.finalTimeSpan = 0\n",
        "        self.antsColony = AntsColony(gcs)\n",
        "        self.displayerManager = DisplayerManager(gcs,gss,self.antsColony)\n",
        "\n",
        "    def run(self):\n",
        "        # diplay the domain to setup the Problem, adjust the walls, define nest and food cells.\n",
        "        self.displayerManager.run()\n",
        "        #self.displayerManager.quit()\n",
        "\n",
        "        #while self.time < 5: #self.tmax:\n",
        "        while self.displayerManager.display:\n",
        "            print(\"time = \",self.time)\n",
        "            self.step()\n",
        "            self.displayerManager.update()\n",
        "            #value = input(\"Please enter a string to continue:\\n\")\n",
        "        self.displayerManager.quit()\n",
        "\n",
        "        #for ant in antsColony.ants:\n",
        "        #    ant.printRoute(ant.route,name='Full route: ')\n",
        "\n",
        "        for ant in self.antsColony.ants:\n",
        "            #ant.printBestPath()\n",
        "            print(r'ant.Idx = ',ant.Idx,', cyclesNBR = ',ant.cyclesNBR, \", minToNestCost = \",ant.minToNestCost)\n",
        "            \n",
        "        self.antsColony.printBestPath()\n",
        "        print(r'self.bestPathTimeSpan_Cost = ',self.bestPathTimeSpan_Cost)\n",
        "        self.plotBestPathTimeSpan_Cost()\n",
        "        print(r'Last best path reached within: ',self.finalTimeSpan)\n",
        "        #print(r'self.displayerManager.minExposedDataValue = ', self.displayerManager.minExposedDataValue)\n",
        "        #print(r'self.displayerManager.maxExposedDataValue = ', self.displayerManager.maxExposedDataValue)\n",
        "\n",
        "    def step(self):\n",
        "        for ant in self.antsColony.ants:\n",
        "            print(\"ant.Idx = \",ant.Idx)\n",
        "            ant.step()\n",
        "            if ant.proposeColonyBestPath:\n",
        "                isUpdated = self.antsColony.updateBestPath(ant)\n",
        "                if isUpdated:\n",
        "                    deltaT = timeit.default_timer() - self.simStartInstant\n",
        "                    self.finalTimeSpan = datetime.timedelta(seconds = deltaT)\n",
        "                    self.bestPathTimeSpan_Cost.append([deltaT,self.antsColony.minToNestCost])\n",
        "                    ant.proposeColonyBestPath = False\n",
        "        self.antsColony.evaporateFeromone()\n",
        "        self.time += self.dt\n",
        "\n",
        "    def plotBestPathTimeSpan_Cost(self):\n",
        "        x, y = zip(*self.bestPathTimeSpan_Cost)\n",
        "        plt.plot(x, y, '.r-')\n",
        "        plt.xlabel('Time (sec)')\n",
        "        plt.ylabel('Price (R$)')\n",
        "        titleTxt = 'Mesh:'+str(Problem['nx'])+' x '+str(Problem['ny'])+' ; Ants number:'+str(Simulator['antsNBR'])\n",
        "        plt.title(titleTxt)\n",
        "        plt.show()"
      ]
    },
    {
      "cell_type": "code",
      "execution_count": null,
      "id": "4f0fb7fa",
      "metadata": {
        "id": "4f0fb7fa"
      },
      "outputs": [],
      "source": [
        "tManager = TimeManager()"
      ]
    },
    {
      "cell_type": "code",
      "execution_count": null,
      "id": "e1515954",
      "metadata": {
        "scrolled": false,
        "id": "e1515954"
      },
      "outputs": [],
      "source": [
        "tManager.run()"
      ]
    },
    {
      "cell_type": "code",
      "execution_count": null,
      "id": "7c5ffa07",
      "metadata": {
        "id": "7c5ffa07"
      },
      "outputs": [],
      "source": []
    }
  ],
  "metadata": {
    "kernelspec": {
      "display_name": "Python 3",
      "language": "python",
      "name": "python3"
    },
    "language_info": {
      "codemirror_mode": {
        "name": "ipython",
        "version": 3
      },
      "file_extension": ".py",
      "mimetype": "text/x-python",
      "name": "python",
      "nbconvert_exporter": "python",
      "pygments_lexer": "ipython3",
      "version": "3.8.8"
    },
    "colab": {
      "provenance": [],
      "include_colab_link": true
    }
  },
  "nbformat": 4,
  "nbformat_minor": 5
}